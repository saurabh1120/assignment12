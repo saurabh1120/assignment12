{
 "cells": [
  {
   "cell_type": "markdown",
   "metadata": {},
   "source": [
    "# Task 12 \n",
    "# Name- Saurabh Sinha\n",
    "# Registration No- SIRSS1263\n"
   ]
  },
  {
   "cell_type": "markdown",
   "metadata": {},
   "source": [
    "### Q.1)Given an array of size n, find all elements in array that appear more than n/k times.\n",
    "\n",
    "### For example: if the input arrays is {3, 1, 2, 2, 1, 2, 3, 3} and k is 4,\n",
    "### then the output should be [2, 3]. Note that size of array is 8 (or n = 8),\n",
    "### so we need to find all elements that appear more than 2 (or 8/4) times.\n",
    "### There are two elements that appear more than two times, 2 and 3."
   ]
  },
  {
   "cell_type": "code",
   "execution_count": 9,
   "metadata": {},
   "outputs": [],
   "source": [
    "def Mbyk(arr, n, k) :\n",
    "    x = n // k\n",
    "      \n",
    "    freq = {}\n",
    "  \n",
    "    for i in range(n):\n",
    "        \n",
    "        if arr[i] in freq:\n",
    "            freq[arr[i]] += 1\n",
    "        \n",
    "        else:\n",
    "            freq[arr[i]] = 1\n",
    "        \n",
    "    for i in freq :\n",
    "          \n",
    "        if (freq[i] > x) :\n",
    "            print(i)\n"
   ]
  },
  {
   "cell_type": "code",
   "execution_count": null,
   "metadata": {},
   "outputs": [],
   "source": [
    "arr = [ 3, 1, 2, 2, 1, 2, 3, 3 ]\n",
    "n = len(arr)\n",
    "k = 4  \n",
    "Mbyk(arr, n, k)"
   ]
  },
  {
   "cell_type": "markdown",
   "metadata": {},
   "source": [
    "### Q2. Given an array of size n and a range [a, b].\n",
    "### The task is to partition the array around the range such that array is divided into threeparts.\n",
    "### 1) All elements smaller than a come first.\n",
    "### 2) All elements in range a to b come next.\n",
    "### 3) All elements greater than b appear in the end.\n",
    "### The individual elements of three sets can appear in any order.\n",
    "### You are required to return the modified array."
   ]
  },
  {
   "cell_type": "code",
   "execution_count": 7,
   "metadata": {},
   "outputs": [],
   "source": [
    "def findElement (a, n):\n",
    " \n",
    "    # Base case\n",
    "    if (n == 1 or n == 2):\n",
    "        return -1\n",
    " \n",
    "    element, maxx, bit = a[0], a[0], -1\n",
    "    check = 0\n",
    "    idx = -1\n",
    " \n",
    "    i = 1\n",
    "    while (i < (n - 1)):\n",
    " \n",
    "        if (a[i] < maxx and i < (n - 1)):\n",
    "            i += 1\n",
    "            bit = 0\n",
    " \n",
    "        else:\n",
    "            if (a[i] >= maxx):\n",
    "                element = a[i]\n",
    "                idx = i\n",
    "                check = 1\n",
    "                maxx = a[i]\n",
    " \n",
    "            if (check == 1):\n",
    "                i += 1\n",
    " \n",
    "            bit = 1\n",
    "            while (a[i] >= element and i < (n - 1)):\n",
    "                if (a[i] > maxx):\n",
    "                    maxx = a[i]\n",
    " \n",
    "                i += 1\n",
    " \n",
    "            check = 0\n",
    "    if (element <= a[n - 1] and bit == 1):\n",
    "        return idx\n",
    "    else:\n",
    "        return -1"
   ]
  },
  {
   "cell_type": "code",
   "execution_count": 8,
   "metadata": {},
   "outputs": [
    {
     "name": "stdout",
     "output_type": "stream",
     "text": [
      "Index of the element is 1\n"
     ]
    }
   ],
   "source": [
    "if __name__ == '__main__':\n",
    "     \n",
    "    arr = [ 1,2,3,4,5 ]\n",
    "    n = len(arr)\n",
    " \n",
    "    print(findElement(arr, n))"
   ]
  },
  {
   "cell_type": "markdown",
   "metadata": {},
   "source": [
    "### Q3. Given an array of integers (A[]) and a number x,\n",
    "### find the smallest subarray with sum greater than the given value.\n",
    "### Note: The answer always exists.\n",
    "### It is guaranteed that x doesn't exceed the summation of a[i] (from 1 to N)."
   ]
  },
  {
   "cell_type": "code",
   "execution_count": 2,
   "metadata": {},
   "outputs": [],
   "source": [
    "def smallestSubWithSum(arr, n, x):\n",
    " \n",
    "    curr_sum = 0\n",
    "    min_len = n + 1\n",
    " \n",
    "    start = 0\n",
    "    end = 0\n",
    "    while (end < n):\n",
    " \n",
    "        while (curr_sum <= x and end < n):\n",
    "            curr_sum += arr[end]\n",
    "            end += 1\n",
    " \n",
    "        while (curr_sum > x and start < n):\n",
    " \n",
    "            if (end - start < min_len):\n",
    "                min_len = end - start\n",
    " \n",
    "            curr_sum -= arr[start]\n",
    "            start += 1\n",
    " \n",
    "    return min_len\n",
    " "
   ]
  },
  {
   "cell_type": "code",
   "execution_count": 3,
   "metadata": {},
   "outputs": [
    {
     "name": "stdout",
     "output_type": "stream",
     "text": [
      "3\n"
     ]
    }
   ],
   "source": [
    "arr1 = [1, 4, 45, 6, 0, 19]\n",
    "x = 51\n",
    "n1 = len(arr1)\n",
    "res1 = smallestSubWithSum(arr1, n1, x)\n",
    "print(\"Not possible\") if (res1 == n1 + 1) else print(res1)"
   ]
  },
  {
   "cell_type": "markdown",
   "metadata": {},
   "source": [
    "### Q4. Estimating the cost\n",
    "### Problem Statement – We want to estimate the cost of painting a property. Interior wall\n",
    "### painting cost is Rs.18 per sq.ft and exterior wall painting cost is Rs.12 per sq.ft.\n",
    "\n",
    "### Take input as\n",
    "### 1. Number of Interior walls\n",
    "### 2. Number of Exterior walls\n",
    "### 3. Surface Area of each Interior 4. Wall in units of square feet\n",
    "### Surface Area of each exterior wall in units of square feet.\n",
    "\n",
    "### Note – If a user enters zero as the number of walls then skip surface area values as user\n",
    "### may don’t want to paint that wall.\n",
    "### Calculate and display the total cost of painting the property"
   ]
  },
  {
   "cell_type": "code",
   "execution_count": 1,
   "metadata": {},
   "outputs": [
    {
     "name": "stdout",
     "output_type": "stream",
     "text": [
      "6\n",
      "3\n",
      "12.3\n",
      "15.2\n",
      "12.3\n",
      "15.2\n",
      "12.3\n",
      "15.2\n",
      "10.10\n",
      "10.10\n",
      "10.10\n",
      "Total estimated Cost :  1848.6 INR\n"
     ]
    }
   ],
   "source": [
    "iw = int(input())\n",
    "ew = int(input())\n",
    "\n",
    "if iw:\n",
    "    int_walls = []\n",
    "    for i in range(iw):\n",
    "        int_walls.append(float(input()))\n",
    "\n",
    "if ew:\n",
    "    ext_walls = []\n",
    "    for i in range(ew):\n",
    "        ext_walls.append(float(input()))\n",
    "if ew < 0 or iw < 0:\n",
    "    print(\"Invalid Input\")\n",
    "    exit()\n",
    "    \n",
    "if ew and iw:\n",
    "    print(\"Total estimated Cost : \",(sum(int_walls)*18+sum(ext_walls)*12),\"INR\")\n",
    "else:\n",
    "    if ew:\n",
    "        print(\"Total estimated Cost : \",sum(ext_walls)*12,\"INR\")\n",
    "    elif iw:\n",
    "         print(\"Total estimated Cost : \",sum(int_walls)*18,\"INR\")\n",
    "    else:\n",
    "        print(\"Total estimated Cost : 0.0 INR\")"
   ]
  },
  {
   "cell_type": "markdown",
   "metadata": {},
   "source": [
    "## Thankyou"
   ]
  }
 ],
 "metadata": {
  "kernelspec": {
   "display_name": "Python 3",
   "language": "python",
   "name": "python3"
  },
  "language_info": {
   "codemirror_mode": {
    "name": "ipython",
    "version": 3
   },
   "file_extension": ".py",
   "mimetype": "text/x-python",
   "name": "python",
   "nbconvert_exporter": "python",
   "pygments_lexer": "ipython3",
   "version": "3.8.5"
  }
 },
 "nbformat": 4,
 "nbformat_minor": 4
}
